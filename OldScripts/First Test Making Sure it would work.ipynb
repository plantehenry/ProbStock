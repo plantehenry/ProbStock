{
 "cells": [
  {
   "cell_type": "code",
   "execution_count": 1,
   "id": "9146e3dd",
   "metadata": {},
   "outputs": [],
   "source": [
    "# %matplotlib ipympl \n",
    "import numpy as np\n",
    "import pandas as pd\n",
    "import csv\n",
    "import datetime\n",
    "import matplotlib.pyplot as plt\n",
    "from scipy.stats import multivariate_normal"
   ]
  },
  {
   "cell_type": "code",
   "execution_count": 69,
   "id": "9a95b980",
   "metadata": {},
   "outputs": [],
   "source": [
    "# load all data into dataframe\n",
    "def load_data(path, file_names, aliases):\n",
    "    dates = {}\n",
    "#     path = 'C:\\\\Users\\\\plant\\\\OneDrive\\\\Documents\\\\Neural Networks Project\\\\'\n",
    "#     file_name_SP = 'SandPPrices'  \n",
    "#     file_name_RE = 'RealEstateIndexDailySince2013'\n",
    "\n",
    "    data_files = [file_name_SP, file_name_RE]\n",
    "    aliases = [\"sp\", \"re\"]\n",
    "    for data_set_idx in range(len(data_files)):\n",
    "        cur_alias = aliases[data_set_idx]\n",
    "        with open(path + data_files[data_set_idx] + '.csv', newline='') as csvfile:\n",
    "            spamreader = csv.reader(csvfile, delimiter=',', quotechar='|')\n",
    "            spamreader.__next__()\n",
    "            for row in spamreader:\n",
    "                try:\n",
    "                    cur_date = datetime.datetime.strptime(row[0], '%m/%d/%Y')\n",
    "\n",
    "                except:\n",
    "                   continue\n",
    "                if not cur_date in dates:\n",
    "                    dates[cur_date] = {}\n",
    "                if data_set_idx == 0:\n",
    "                    dates[cur_date][cur_alias] = float(row[4])\n",
    "                elif data_set_idx == 1:\n",
    "                    dates[cur_date][cur_alias] = float(row[1])\n",
    "\n",
    "    frame = pd.DataFrame.from_dict(dates, orient='index')\n",
    "    frame.columns = aliases\n",
    "    frame.reset_index(inplace=True)\n",
    "    frame = frame.rename(columns = {'index':'Date'})\n",
    "    return frame\n"
   ]
  },
  {
   "cell_type": "code",
   "execution_count": 70,
   "id": "b9560539",
   "metadata": {},
   "outputs": [],
   "source": [
    "path = 'C:\\\\Users\\\\plant\\\\OneDrive\\\\Documents\\\\Neural Networks Project\\\\'\n",
    "file_name_SP = 'SandPPrices'  \n",
    "file_name_RE = 'RealEstateIndexDailySince2013'\n",
    "\n",
    "data_files = [file_name_SP, file_name_RE, file_name_SP]\n",
    "aliases = [\"sp\", \"re\", \"sp\"]\n",
    "\n",
    "frame = load_data(path, data_files, aliases)"
   ]
  },
  {
   "cell_type": "code",
   "execution_count": 68,
   "id": "34400fdc",
   "metadata": {},
   "outputs": [
    {
     "data": {
      "text/html": [
       "<div>\n",
       "<style scoped>\n",
       "    .dataframe tbody tr th:only-of-type {\n",
       "        vertical-align: middle;\n",
       "    }\n",
       "\n",
       "    .dataframe tbody tr th {\n",
       "        vertical-align: top;\n",
       "    }\n",
       "\n",
       "    .dataframe thead th {\n",
       "        text-align: right;\n",
       "    }\n",
       "</style>\n",
       "<table border=\"1\" class=\"dataframe\">\n",
       "  <thead>\n",
       "    <tr style=\"text-align: right;\">\n",
       "      <th></th>\n",
       "      <th>Date</th>\n",
       "      <th>sp</th>\n",
       "      <th>re</th>\n",
       "    </tr>\n",
       "  </thead>\n",
       "  <tbody>\n",
       "    <tr>\n",
       "      <th>0</th>\n",
       "      <td>2000-01-03</td>\n",
       "      <td>1455.22</td>\n",
       "      <td>NaN</td>\n",
       "    </tr>\n",
       "    <tr>\n",
       "      <th>1</th>\n",
       "      <td>2000-01-04</td>\n",
       "      <td>1399.42</td>\n",
       "      <td>NaN</td>\n",
       "    </tr>\n",
       "    <tr>\n",
       "      <th>2</th>\n",
       "      <td>2000-01-05</td>\n",
       "      <td>1402.11</td>\n",
       "      <td>NaN</td>\n",
       "    </tr>\n",
       "    <tr>\n",
       "      <th>3</th>\n",
       "      <td>2000-01-06</td>\n",
       "      <td>1403.45</td>\n",
       "      <td>NaN</td>\n",
       "    </tr>\n",
       "    <tr>\n",
       "      <th>4</th>\n",
       "      <td>2000-01-07</td>\n",
       "      <td>1441.47</td>\n",
       "      <td>NaN</td>\n",
       "    </tr>\n",
       "    <tr>\n",
       "      <th>...</th>\n",
       "      <td>...</td>\n",
       "      <td>...</td>\n",
       "      <td>...</td>\n",
       "    </tr>\n",
       "    <tr>\n",
       "      <th>5839</th>\n",
       "      <td>2023-02-15</td>\n",
       "      <td>NaN</td>\n",
       "      <td>357.06</td>\n",
       "    </tr>\n",
       "    <tr>\n",
       "      <th>5840</th>\n",
       "      <td>2023-02-16</td>\n",
       "      <td>NaN</td>\n",
       "      <td>353.84</td>\n",
       "    </tr>\n",
       "    <tr>\n",
       "      <th>5841</th>\n",
       "      <td>2023-02-17</td>\n",
       "      <td>NaN</td>\n",
       "      <td>352.45</td>\n",
       "    </tr>\n",
       "    <tr>\n",
       "      <th>5842</th>\n",
       "      <td>2023-02-21</td>\n",
       "      <td>NaN</td>\n",
       "      <td>345.51</td>\n",
       "    </tr>\n",
       "    <tr>\n",
       "      <th>5843</th>\n",
       "      <td>2023-02-22</td>\n",
       "      <td>NaN</td>\n",
       "      <td>341.79</td>\n",
       "    </tr>\n",
       "  </tbody>\n",
       "</table>\n",
       "<p>5844 rows × 3 columns</p>\n",
       "</div>"
      ],
      "text/plain": [
       "           Date       sp      re\n",
       "0    2000-01-03  1455.22     NaN\n",
       "1    2000-01-04  1399.42     NaN\n",
       "2    2000-01-05  1402.11     NaN\n",
       "3    2000-01-06  1403.45     NaN\n",
       "4    2000-01-07  1441.47     NaN\n",
       "...         ...      ...     ...\n",
       "5839 2023-02-15      NaN  357.06\n",
       "5840 2023-02-16      NaN  353.84\n",
       "5841 2023-02-17      NaN  352.45\n",
       "5842 2023-02-21      NaN  345.51\n",
       "5843 2023-02-22      NaN  341.79\n",
       "\n",
       "[5844 rows x 3 columns]"
      ]
     },
     "execution_count": 68,
     "metadata": {},
     "output_type": "execute_result"
    }
   ],
   "source": [
    "frame"
   ]
  },
  {
   "cell_type": "code",
   "execution_count": 5,
   "id": "b1191f6f",
   "metadata": {},
   "outputs": [
    {
     "data": {
      "text/html": [
       "<div>\n",
       "<style scoped>\n",
       "    .dataframe tbody tr th:only-of-type {\n",
       "        vertical-align: middle;\n",
       "    }\n",
       "\n",
       "    .dataframe tbody tr th {\n",
       "        vertical-align: top;\n",
       "    }\n",
       "\n",
       "    .dataframe thead th {\n",
       "        text-align: right;\n",
       "    }\n",
       "</style>\n",
       "<table border=\"1\" class=\"dataframe\">\n",
       "  <thead>\n",
       "    <tr style=\"text-align: right;\">\n",
       "      <th></th>\n",
       "      <th>Date</th>\n",
       "      <th>sp</th>\n",
       "      <th>re</th>\n",
       "    </tr>\n",
       "  </thead>\n",
       "  <tbody>\n",
       "    <tr>\n",
       "      <th>0</th>\n",
       "      <td>2013-01-31</td>\n",
       "      <td>1498.11</td>\n",
       "      <td>261.09</td>\n",
       "    </tr>\n",
       "    <tr>\n",
       "      <th>1</th>\n",
       "      <td>2013-02-01</td>\n",
       "      <td>1513.17</td>\n",
       "      <td>262.48</td>\n",
       "    </tr>\n",
       "    <tr>\n",
       "      <th>2</th>\n",
       "      <td>2013-02-04</td>\n",
       "      <td>1495.71</td>\n",
       "      <td>261.94</td>\n",
       "    </tr>\n",
       "    <tr>\n",
       "      <th>3</th>\n",
       "      <td>2013-02-05</td>\n",
       "      <td>1511.29</td>\n",
       "      <td>261.73</td>\n",
       "    </tr>\n",
       "    <tr>\n",
       "      <th>4</th>\n",
       "      <td>2013-02-06</td>\n",
       "      <td>1512.12</td>\n",
       "      <td>262.26</td>\n",
       "    </tr>\n",
       "    <tr>\n",
       "      <th>...</th>\n",
       "      <td>...</td>\n",
       "      <td>...</td>\n",
       "      <td>...</td>\n",
       "    </tr>\n",
       "    <tr>\n",
       "      <th>2493</th>\n",
       "      <td>2022-12-23</td>\n",
       "      <td>3844.82</td>\n",
       "      <td>330.11</td>\n",
       "    </tr>\n",
       "    <tr>\n",
       "      <th>2494</th>\n",
       "      <td>2022-12-27</td>\n",
       "      <td>3829.25</td>\n",
       "      <td>329.80</td>\n",
       "    </tr>\n",
       "    <tr>\n",
       "      <th>2495</th>\n",
       "      <td>2022-12-28</td>\n",
       "      <td>3783.22</td>\n",
       "      <td>324.33</td>\n",
       "    </tr>\n",
       "    <tr>\n",
       "      <th>2496</th>\n",
       "      <td>2022-12-29</td>\n",
       "      <td>3849.28</td>\n",
       "      <td>330.75</td>\n",
       "    </tr>\n",
       "    <tr>\n",
       "      <th>2497</th>\n",
       "      <td>2022-12-30</td>\n",
       "      <td>3839.50</td>\n",
       "      <td>327.76</td>\n",
       "    </tr>\n",
       "  </tbody>\n",
       "</table>\n",
       "<p>2498 rows × 3 columns</p>\n",
       "</div>"
      ],
      "text/plain": [
       "           Date       sp      re\n",
       "0    2013-01-31  1498.11  261.09\n",
       "1    2013-02-01  1513.17  262.48\n",
       "2    2013-02-04  1495.71  261.94\n",
       "3    2013-02-05  1511.29  261.73\n",
       "4    2013-02-06  1512.12  262.26\n",
       "...         ...      ...     ...\n",
       "2493 2022-12-23  3844.82  330.11\n",
       "2494 2022-12-27  3829.25  329.80\n",
       "2495 2022-12-28  3783.22  324.33\n",
       "2496 2022-12-29  3849.28  330.75\n",
       "2497 2022-12-30  3839.50  327.76\n",
       "\n",
       "[2498 rows x 3 columns]"
      ]
     },
     "execution_count": 5,
     "metadata": {},
     "output_type": "execute_result"
    }
   ],
   "source": [
    "not_null = frame.query(\"sp.notnull() and re.notnull()\")\n",
    "not_null.reset_index(drop = True, inplace = True)\n",
    "not_null"
   ]
  },
  {
   "cell_type": "code",
   "execution_count": null,
   "id": "9cca94d8",
   "metadata": {},
   "outputs": [],
   "source": []
  },
  {
   "cell_type": "code",
   "execution_count": 6,
   "id": "f5e95b09",
   "metadata": {
    "scrolled": false
   },
   "outputs": [
    {
     "data": {
      "text/html": [
       "<div>\n",
       "<style scoped>\n",
       "    .dataframe tbody tr th:only-of-type {\n",
       "        vertical-align: middle;\n",
       "    }\n",
       "\n",
       "    .dataframe tbody tr th {\n",
       "        vertical-align: top;\n",
       "    }\n",
       "\n",
       "    .dataframe thead th {\n",
       "        text-align: right;\n",
       "    }\n",
       "</style>\n",
       "<table border=\"1\" class=\"dataframe\">\n",
       "  <thead>\n",
       "    <tr style=\"text-align: right;\">\n",
       "      <th></th>\n",
       "      <th>Date</th>\n",
       "      <th>sp</th>\n",
       "      <th>re</th>\n",
       "      <th>sp_last_month</th>\n",
       "      <th>re_last_month</th>\n",
       "      <th>sp_fut_2wks</th>\n",
       "      <th>re_fut_2wks</th>\n",
       "      <th>re_sp_2wk_diff</th>\n",
       "    </tr>\n",
       "  </thead>\n",
       "  <tbody>\n",
       "    <tr>\n",
       "      <th>40</th>\n",
       "      <td>2013-04-01</td>\n",
       "      <td>1562.17</td>\n",
       "      <td>270.57</td>\n",
       "      <td>0.031353</td>\n",
       "      <td>0.02613</td>\n",
       "      <td>-0.00628</td>\n",
       "      <td>0.015892</td>\n",
       "      <td>0.022172</td>\n",
       "    </tr>\n",
       "  </tbody>\n",
       "</table>\n",
       "</div>"
      ],
      "text/plain": [
       "         Date       sp      re  sp_last_month  re_last_month  sp_fut_2wks  \\\n",
       "40 2013-04-01  1562.17  270.57       0.031353        0.02613     -0.00628   \n",
       "\n",
       "    re_fut_2wks  re_sp_2wk_diff  \n",
       "40     0.015892        0.022172  "
      ]
     },
     "execution_count": 6,
     "metadata": {},
     "output_type": "execute_result"
    }
   ],
   "source": [
    "sp_prev_month = []\n",
    "re_prev_month = []\n",
    "sp_next_2wks = []\n",
    "re_next_2wks  = []\n",
    "\n",
    "\n",
    "for idx, row in not_null.iterrows():\n",
    "    if idx + 10 < not_null.shape[0] and idx > 20:\n",
    "        sp_cur = row['sp']\n",
    "        sp_last_month = not_null.loc[idx - 21].at['sp']\n",
    "        sp_fut_2wk = not_null.loc[idx + 10].at['sp']\n",
    "        re_cur = row['re']\n",
    "        re_last_month = not_null.loc[idx - 21].at['re']\n",
    "        re_fut_2wk = not_null.loc[idx + 10].at['re']\n",
    "        sp_prev_month.append((sp_cur - sp_last_month)/sp_last_month)\n",
    "        re_prev_month.append((re_cur - re_last_month)/re_last_month)\n",
    "        sp_next_2wks.append((sp_fut_2wk - sp_cur)/sp_cur)\n",
    "        re_next_2wks.append((re_fut_2wk - re_cur)/re_cur)\n",
    "    else:\n",
    "        sp_prev_month.append(None)\n",
    "        re_prev_month.append(None)\n",
    "        re_next_2wks.append(None) \n",
    "        sp_next_2wks.append(None)\n",
    "        \n",
    "not_null = not_null.assign(sp_last_month = sp_prev_month)\n",
    "not_null = not_null.assign(re_last_month = re_prev_month)\n",
    "not_null = not_null.assign(sp_fut_2wks = sp_next_2wks)\n",
    "not_null = not_null.assign(re_fut_2wks = re_next_2wks)\n",
    "not_null[\"re_sp_2wk_diff\"] = not_null[\"re_fut_2wks\"]  - not_null[\"sp_fut_2wks\"]\n",
    "not_null.iloc[40:41]"
   ]
  },
  {
   "cell_type": "code",
   "execution_count": 7,
   "id": "f6a6e141",
   "metadata": {
    "scrolled": false
   },
   "outputs": [
    {
     "data": {
      "image/png": "[encoded data removed]",
      "text/plain": [
       "<Figure size 640x480 with 1 Axes>"
      ]
     },
     "metadata": {},
     "output_type": "display_data"
    }
   ],
   "source": [
    "plt.figure()\n",
    "plt.hist(not_null['sp_fut_2wks'], color = 'red', bins = 500)\n",
    "plt.hist(not_null['re_fut_2wks'], color = 'green', bins = 500, alpha = .5,)\n",
    "plt.show()"
   ]
  },
  {
   "cell_type": "code",
   "execution_count": 8,
   "id": "13a2a30e",
   "metadata": {
    "scrolled": true
   },
   "outputs": [],
   "source": [
    "# fig = plt.figure()\n",
    "# ax = fig.add_subplot(projection = '3d')\n",
    "\n",
    "# ax.scatter(not_null[\"sp_last_month\"], not_null[\"re_last_month\"], not_null[\"re_sp_2wk_diff\"])\n",
    "# ax.set_xlabel('sp_last_month')\n",
    "# ax.set_ylabel('re_last_month')\n",
    "# ax.set_zlabel('re_sp_2wk_diff')\n",
    "# plt.show()"
   ]
  },
  {
   "cell_type": "code",
   "execution_count": 9,
   "id": "231fd4e5",
   "metadata": {},
   "outputs": [
    {
     "data": {
      "text/plain": [
       "array([[ 1.93105470e-03,  1.74923916e-03,  5.73594980e-05],\n",
       "       [ 1.74923916e-03,  2.79349905e-03, -8.65065117e-05],\n",
       "       [ 5.73594980e-05, -8.65065117e-05,  6.56947028e-04]])"
      ]
     },
     "execution_count": 9,
     "metadata": {},
     "output_type": "execute_result"
    }
   ],
   "source": [
    "not_null = not_null.query(\"sp_last_month.notnull() and re_last_month.notnull() and re_sp_2wk_diff.notnull()\")\n",
    "variables = [not_null[\"sp_last_month\"], not_null[\"re_last_month\"], not_null[\"re_sp_2wk_diff\"]]\n",
    "cov_mat = np.cov(variables)\n",
    "cov_mat\n"
   ]
  },
  {
   "cell_type": "code",
   "execution_count": 50,
   "id": "fcff2900",
   "metadata": {},
   "outputs": [
    {
     "name": "stdout",
     "output_type": "stream",
     "text": [
      "[0.009290984781652004, 0.003673454996762879, -0.0025899889074530234]\n",
      "(400, 400, 400)\n"
     ]
    },
    {
     "data": {
      "image/png": "[encoded data removed]",
      "text/plain": [
       "<Figure size 640x480 with 1 Axes>"
      ]
     },
     "metadata": {},
     "output_type": "display_data"
    }
   ],
   "source": [
    "means = [np.mean(not_null[\"sp_last_month\"]), np.mean(not_null[\"re_last_month\"]), np.mean(not_null[\"re_sp_2wk_diff\"])]\n",
    "print(means)\n",
    "rv = multivariate_normal(mean=means, cov=cov_mat, allow_singular=False)\n",
    "\n",
    "x, y, z= np.mgrid[-1:1:.005, -1:1:.005,  -1:1:.005]\n",
    "print(y.shape)\n",
    "pos = np.stack((x, y, z), axis = 3)\n",
    "# print(pos[:, :, 99:100, :].shape)\n",
    "# print(rv.pdf(pos[99:100, :, :, :]).shape)\n",
    "# print(rv.pdf(pos[99:100, :, :, :]))\n",
    "x, y= np.mgrid[-1:1:.005, -1:1:.005]\n",
    "fig = plt.figure()\n",
    "ax = plt.axes(projection='3d')\n",
    "# print( np.max(rv.cdf(pos[100:101, :, :, :])))\n",
    "ax.contour3D(x,  y, rv.pdf(pos[:, :, 100:101, :]), 50, cmap='binary')\n",
    "ax.set_xlabel('sp_last_month')\n",
    "ax.set_ylabel('re_last_month')\n",
    "ax.set_zlabel('re_sp_2wk_diff')\n",
    "ax.set_title('3D contour')\n",
    "plt.show()\n",
    "\n",
    "# fig2 = plt.figure()\n",
    "# ax2 = fig2.add_subplot(111)\n",
    "# ax2.contourf(x, y, rv.pdf(pos))\n"
   ]
  },
  {
   "cell_type": "code",
   "execution_count": 11,
   "id": "f318988e",
   "metadata": {},
   "outputs": [
    {
     "name": "stdout",
     "output_type": "stream",
     "text": [
      "(200, 200, 2)\n",
      "(200, 200)\n"
     ]
    },
    {
     "data": {
      "text/plain": [
       "<matplotlib.contour.QuadContourSet at 0x28f9f1b57d0>"
      ]
     },
     "execution_count": 11,
     "metadata": {},
     "output_type": "execute_result"
    },
    {
     "data": {
      "image/png": "[encoded data removed]",
      "text/plain": [
       "<Figure size 640x480 with 1 Axes>"
      ]
     },
     "metadata": {},
     "output_type": "display_data"
    }
   ],
   "source": [
    "x, y = np.mgrid[-1:1:.01, -1:1:.01]\n",
    "pos = np.dstack((x, y))\n",
    "print(pos.shape)\n",
    "rv = multivariate_normal([0.5, -0.2], [[2.0, 0.3], [0.3, 0.5]])\n",
    "print(rv.pdf(pos).shape)\n",
    "fig2 = plt.figure()\n",
    "ax2 = fig2.add_subplot(111)\n",
    "ax2.contourf(x, y, rv.pdf(pos))"
   ]
  },
  {
   "cell_type": "code",
   "execution_count": null,
   "id": "3af092e6",
   "metadata": {},
   "outputs": [],
   "source": []
  }
 ],
 "metadata": {
  "kernelspec": {
   "display_name": "Python 3 (ipykernel)",
   "language": "python",
   "name": "python3"
  },
  "language_info": {
   "codemirror_mode": {
    "name": "ipython",
    "version": 3
   },
   "file_extension": ".py",
   "mimetype": "text/x-python",
   "name": "python",
   "nbconvert_exporter": "python",
   "pygments_lexer": "ipython3",
   "version": "3.11.4"
  }
 },
 "nbformat": 4,
 "nbformat_minor": 5
}
