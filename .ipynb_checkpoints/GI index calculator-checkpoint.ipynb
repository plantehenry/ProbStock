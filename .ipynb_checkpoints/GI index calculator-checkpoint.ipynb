{
 "cells": [
  {
   "cell_type": "code",
   "execution_count": 15,
   "id": "6a2a2c42",
   "metadata": {},
   "outputs": [],
   "source": [
    "import csv\n",
    "import datetime"
   ]
  },
  {
   "cell_type": "code",
   "execution_count": 16,
   "id": "c3aa9b4d",
   "metadata": {},
   "outputs": [],
   "source": [
    "price_file = \"IYR\"\n",
    "dividend_file = \"IYRDividends\"\n",
    "path = 'C:\\\\Users\\\\plant\\\\OneDrive\\\\Documents\\\\ProbStock\\\\'"
   ]
  },
  {
   "cell_type": "code",
   "execution_count": 20,
   "id": "e1de364a",
   "metadata": {},
   "outputs": [],
   "source": [
    "ex_dates = {}\n",
    "pay_dates = set()\n",
    "\n",
    "with open(path + dividend_file + \".csv\") as csvfile:\n",
    "    spamreader = csv.reader(csvfile, delimiter=',', quotechar='|')\n",
    "    spamreader.__next__()\n",
    "    for row in spamreader:\n",
    "        ex_date = datetime.datetime.strptime(row[0], '%m/%d/%Y')\n",
    "        pay_date = datetime.datetime.strptime(row[5], '%m/%d/%Y')\n",
    "        amt = float(row[2][1:])\n",
    "        ex_dates[ex_date] = amt\n",
    "        pay_dates.add(pay_date)\n"
   ]
  },
  {
   "cell_type": "code",
   "execution_count": 23,
   "id": "e9d146e4",
   "metadata": {},
   "outputs": [],
   "source": [
    "close_vals = []\n",
    "\n",
    "with open(path + price_file + \".csv\") as csvfile:\n",
    "    spamreader = csv.reader(csvfile, delimiter=',', quotechar='|')\n",
    "    spamreader.__next__()\n",
    "    for row in spamreader:\n",
    "        date = datetime.datetime.strptime(row[0], '%m/%d/%Y')\n",
    "        close = float(row[1])\n",
    "        close_vals.append((date, close))"
   ]
  },
  {
   "cell_type": "code",
   "execution_count": 45,
   "id": "39d41ba4",
   "metadata": {},
   "outputs": [],
   "source": [
    "shares = 1\n",
    "cash = 0 \n",
    "\n",
    "worth = [close_vals[0]]\n",
    "\n",
    "for date, close in close_vals[1:]:\n",
    "    if date in ex_dates:\n",
    "        cash += ex_dates[date]\n",
    "    worth.append((date , close * shares + cash))\n",
    "    if date in pay_dates:\n",
    "        shares += cash / close\n",
    "        cash = 0"
   ]
  },
  {
   "cell_type": "code",
   "execution_count": 48,
   "id": "72174008",
   "metadata": {},
   "outputs": [],
   "source": [
    "with open('IYRGI.csv', 'w', newline='') as csvfile:\n",
    "    csv_writer = csv.writer(csvfile)\n",
    "    csv_writer.writerow(['Date', 'Value'])  # Write header\n",
    "    csv_writer.writerows(worth)  # Write data rows"
   ]
  }
 ],
 "metadata": {
  "kernelspec": {
   "display_name": "Python 3 (ipykernel)",
   "language": "python",
   "name": "python3"
  },
  "language_info": {
   "codemirror_mode": {
    "name": "ipython",
    "version": 3
   },
   "file_extension": ".py",
   "mimetype": "text/x-python",
   "name": "python",
   "nbconvert_exporter": "python",
   "pygments_lexer": "ipython3",
   "version": "3.11.4"
  }
 },
 "nbformat": 4,
 "nbformat_minor": 5
}
